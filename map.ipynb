{
 "cells": [
  {
   "cell_type": "code",
   "execution_count": 1,
   "id": "fe74ea48-6368-4c4d-b7d9-28f40706c77a",
   "metadata": {},
   "outputs": [],
   "source": [
    "import pandas as pd\n",
    "\n",
    "data1 = [\n",
    "            {\"rating\": 5,\n",
    "             \"id\": \"100\",\n",
    "             \"body\": \"\"\"XXXXXXXX\"\"\"\n",
    "            }, \n",
    "            {\"rating\": 3,\n",
    "             \"id\": \"101\",\n",
    "             \"body\": \"\"\"YYYYYYYY\"\"\"\n",
    "            }, \n",
    "            {\"rating\": 1,\n",
    "             \"id\": \"102\",\n",
    "             \"body\": \"\"\"ZZZZZZZZ\"\"\"\n",
    "            }\n",
    "        ]"
   ]
  },
  {
   "cell_type": "code",
   "execution_count": 2,
   "id": "47f00aee-d0c5-492e-b62f-732fe7a7a2e9",
   "metadata": {},
   "outputs": [
    {
     "data": {
      "text/plain": [
       "[{'rating': 5, 'id': '100', 'body': 'XXXXXXXX'},\n",
       " {'rating': 3, 'id': '101', 'body': 'YYYYYYYY'},\n",
       " {'rating': 1, 'id': '102', 'body': 'ZZZZZZZZ'}]"
      ]
     },
     "execution_count": 2,
     "metadata": {},
     "output_type": "execute_result"
    }
   ],
   "source": [
    "data1"
   ]
  },
  {
   "cell_type": "code",
   "execution_count": 3,
   "id": "1f911e42-c9a5-4351-b6ef-147feb740895",
   "metadata": {},
   "outputs": [],
   "source": [
    "s1 = pd.Series(data=data1)\n",
    "# pd.DataFrameが二次元配列（行列）を扱っていたのに対して、pd.Seriesは一次元配列（ベクトル）を扱う。"
   ]
  },
  {
   "cell_type": "code",
   "execution_count": 4,
   "id": "2d901391-87cc-4f23-ad97-87bc38ee1fa5",
   "metadata": {},
   "outputs": [
    {
     "data": {
      "text/plain": [
       "0    {'rating': 5, 'id': '100', 'body': 'XXXXXXXX'}\n",
       "1    {'rating': 3, 'id': '101', 'body': 'YYYYYYYY'}\n",
       "2    {'rating': 1, 'id': '102', 'body': 'ZZZZZZZZ'}\n",
       "dtype: object"
      ]
     },
     "execution_count": 4,
     "metadata": {},
     "output_type": "execute_result"
    }
   ],
   "source": [
    "s1"
   ]
  },
  {
   "cell_type": "code",
   "execution_count": 5,
   "id": "0e97f5ca-e0ea-488a-99ad-f5167fd9a093",
   "metadata": {},
   "outputs": [],
   "source": [
    "def func(record):\n",
    "    x = {\n",
    "        \"id\": record[\"id\"],\n",
    "        \"body\": record[\"body\"]\n",
    "    }\n",
    "    y = record[\"rating\"]\n",
    "    return (x,y)"
   ]
  },
  {
   "cell_type": "code",
   "execution_count": 6,
   "id": "91e412f4-351a-4add-89aa-f81d4d467c2c",
   "metadata": {},
   "outputs": [
    {
     "data": {
      "text/plain": [
       "0    ({'id': '100', 'body': 'XXXXXXXX'}, 5)\n",
       "1    ({'id': '101', 'body': 'YYYYYYYY'}, 3)\n",
       "2    ({'id': '102', 'body': 'ZZZZZZZZ'}, 1)\n",
       "dtype: object"
      ]
     },
     "execution_count": 6,
     "metadata": {},
     "output_type": "execute_result"
    }
   ],
   "source": [
    "s1.map(func)"
   ]
  },
  {
   "cell_type": "code",
   "execution_count": 7,
   "id": "6a8999d2-ab14-4636-94a7-4c00a37ffe7a",
   "metadata": {},
   "outputs": [
    {
     "data": {
      "text/plain": [
       "{'rating': 5, 'id': '100', 'body': 'XXXXXXXX'}"
      ]
     },
     "execution_count": 7,
     "metadata": {},
     "output_type": "execute_result"
    }
   ],
   "source": [
    "s1[0]"
   ]
  },
  {
   "cell_type": "code",
   "execution_count": 8,
   "id": "12d1512e-864b-4a5f-ad13-4aa6a50d7e8e",
   "metadata": {},
   "outputs": [
    {
     "data": {
      "text/plain": [
       "5"
      ]
     },
     "execution_count": 8,
     "metadata": {},
     "output_type": "execute_result"
    }
   ],
   "source": [
    "s1[0]['rating']"
   ]
  },
  {
   "cell_type": "code",
   "execution_count": 9,
   "id": "0413f5ff-69c5-4e22-a4fb-607e1d89e7a2",
   "metadata": {},
   "outputs": [
    {
     "data": {
      "text/plain": [
       "'100'"
      ]
     },
     "execution_count": 9,
     "metadata": {},
     "output_type": "execute_result"
    }
   ],
   "source": [
    "s1[0]['id']"
   ]
  },
  {
   "cell_type": "code",
   "execution_count": 10,
   "id": "41c09b27-8a6b-470b-9c14-a4d9f6d0f80d",
   "metadata": {},
   "outputs": [
    {
     "data": {
      "text/plain": [
       "'XXXXXXXX'"
      ]
     },
     "execution_count": 10,
     "metadata": {},
     "output_type": "execute_result"
    }
   ],
   "source": [
    "s1[0]['body']"
   ]
  },
  {
   "cell_type": "code",
   "execution_count": 11,
   "id": "4c2f7f47-f4c4-4159-96de-9ad750209b8a",
   "metadata": {},
   "outputs": [],
   "source": [
    "mapped_s1 = s1.map(func)"
   ]
  },
  {
   "cell_type": "code",
   "execution_count": 12,
   "id": "deca7b06-46d0-4e9d-b314-20014e98f7b2",
   "metadata": {},
   "outputs": [
    {
     "data": {
      "text/plain": [
       "0    ({'id': '100', 'body': 'XXXXXXXX'}, 5)\n",
       "1    ({'id': '101', 'body': 'YYYYYYYY'}, 3)\n",
       "2    ({'id': '102', 'body': 'ZZZZZZZZ'}, 1)\n",
       "dtype: object"
      ]
     },
     "execution_count": 12,
     "metadata": {},
     "output_type": "execute_result"
    }
   ],
   "source": [
    "mapped_s1"
   ]
  },
  {
   "cell_type": "code",
   "execution_count": 13,
   "id": "44856ab7-5132-4c3e-8d7f-248ad6c58c08",
   "metadata": {},
   "outputs": [
    {
     "data": {
      "text/plain": [
       "{'id': '100', 'body': 'XXXXXXXX'}"
      ]
     },
     "execution_count": 13,
     "metadata": {},
     "output_type": "execute_result"
    }
   ],
   "source": [
    "mapped_s1[0][0]"
   ]
  },
  {
   "cell_type": "code",
   "execution_count": 14,
   "id": "8e27ac9d-1074-4836-acd8-80f58260e643",
   "metadata": {},
   "outputs": [
    {
     "data": {
      "text/plain": [
       "'100'"
      ]
     },
     "execution_count": 14,
     "metadata": {},
     "output_type": "execute_result"
    }
   ],
   "source": [
    "mapped_s1[0][0]['id']"
   ]
  },
  {
   "cell_type": "code",
   "execution_count": 15,
   "id": "adaed356-ec00-47e0-8ee1-50dfd196325f",
   "metadata": {},
   "outputs": [
    {
     "data": {
      "text/plain": [
       "'XXXXXXXX'"
      ]
     },
     "execution_count": 15,
     "metadata": {},
     "output_type": "execute_result"
    }
   ],
   "source": [
    "mapped_s1[0][0]['body']"
   ]
  },
  {
   "cell_type": "code",
   "execution_count": 16,
   "id": "ffb349f1-fc24-42af-a96a-e328ef284cfa",
   "metadata": {},
   "outputs": [
    {
     "data": {
      "text/plain": [
       "5"
      ]
     },
     "execution_count": 16,
     "metadata": {},
     "output_type": "execute_result"
    }
   ],
   "source": [
    "mapped_s1[0][1]"
   ]
  }
 ],
 "metadata": {
  "kernelspec": {
   "display_name": "Python 3 (ipykernel)",
   "language": "python",
   "name": "python3"
  },
  "language_info": {
   "codemirror_mode": {
    "name": "ipython",
    "version": 3
   },
   "file_extension": ".py",
   "mimetype": "text/x-python",
   "name": "python",
   "nbconvert_exporter": "python",
   "pygments_lexer": "ipython3",
   "version": "3.10.12"
  }
 },
 "nbformat": 4,
 "nbformat_minor": 5
}
